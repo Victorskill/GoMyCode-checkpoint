{
 "cells": [
  {
   "cell_type": "markdown",
   "id": "c2ed6b0f-f927-46b7-b377-690586e37a3b",
   "metadata": {},
   "source": [
    "### Write a program that will find all numbers which are divisible by 7 but are not a multiple of 5, between 2000 and 3200 (both included). The numbers obtained should be printed in a list."
   ]
  },
  {
   "cell_type": "code",
   "execution_count": 4,
   "id": "d1892a1b-0e31-46f7-a580-613d4ffd127e",
   "metadata": {},
   "outputs": [],
   "source": [
    "# a % 7 == 0 and a % 5 != 0\n",
    "lists = []\n",
    "for i in range(2000, 3201):\n",
    "    if i % 7 == 0 and i % 5 != 0:\n",
    "        lists.append(i)\n"
   ]
  },
  {
   "cell_type": "code",
   "execution_count": 5,
   "id": "09668609-e679-423a-9557-35ea631780f8",
   "metadata": {},
   "outputs": [
    {
     "name": "stdout",
     "output_type": "stream",
     "text": [
      "[2002, 2009, 2016, 2023, 2037, 2044, 2051, 2058, 2072, 2079, 2086, 2093, 2107, 2114, 2121, 2128, 2142, 2149, 2156, 2163, 2177, 2184, 2191, 2198, 2212, 2219, 2226, 2233, 2247, 2254, 2261, 2268, 2282, 2289, 2296, 2303, 2317, 2324, 2331, 2338, 2352, 2359, 2366, 2373, 2387, 2394, 2401, 2408, 2422, 2429, 2436, 2443, 2457, 2464, 2471, 2478, 2492, 2499, 2506, 2513, 2527, 2534, 2541, 2548, 2562, 2569, 2576, 2583, 2597, 2604, 2611, 2618, 2632, 2639, 2646, 2653, 2667, 2674, 2681, 2688, 2702, 2709, 2716, 2723, 2737, 2744, 2751, 2758, 2772, 2779, 2786, 2793, 2807, 2814, 2821, 2828, 2842, 2849, 2856, 2863, 2877, 2884, 2891, 2898, 2912, 2919, 2926, 2933, 2947, 2954, 2961, 2968, 2982, 2989, 2996, 3003, 3017, 3024, 3031, 3038, 3052, 3059, 3066, 3073, 3087, 3094, 3101, 3108, 3122, 3129, 3136, 3143, 3157, 3164, 3171, 3178, 3192, 3199]\n"
     ]
    }
   ],
   "source": [
    "print(lists)"
   ]
  },
  {
   "cell_type": "code",
   "execution_count": null,
   "id": "fef5a94f-7ee3-4a31-8cd4-a91b2697d724",
   "metadata": {},
   "outputs": [],
   "source": []
  },
  {
   "cell_type": "code",
   "execution_count": 1,
   "id": "5ba07769-ad70-4e63-a97d-8a18bd9620cb",
   "metadata": {},
   "outputs": [],
   "source": [
    "# Equality operators\n",
    "# == - equal to\n",
    "# != - not equal to\n",
    "# > - greater than\n",
    "# >= greater than equal to\n",
    "# <  less than\n",
    "# <= less than equal to\n"
   ]
  },
  {
   "cell_type": "code",
   "execution_count": null,
   "id": "d74124e8-7ffb-4a81-8510-5e41ef203bfa",
   "metadata": {},
   "outputs": [],
   "source": [
    "# iterables \n",
    "# lists []\n",
    "# tuples ()\n",
    "# dictionary {:}\n",
    "# sets {}"
   ]
  },
  {
   "cell_type": "code",
   "execution_count": null,
   "id": "57c24f69-8be9-4b46-ae41-043f903e7920",
   "metadata": {},
   "outputs": [],
   "source": []
  },
  {
   "cell_type": "markdown",
   "id": "674b2856-4473-4abc-bf54-1cf4a0cc0b2a",
   "metadata": {},
   "source": [
    "###  Write a program that can compute the factorial of a given number. (The factorial of n is the product of all positive integers less than or equal to n.) For example: For factorial(5)= 5 x 4 x 3 x 2 x 1 the result is 120 (i.e. factorial (0)=1)."
   ]
  },
  {
   "cell_type": "code",
   "execution_count": 24,
   "id": "f2b9b4c5-8f1b-4512-9c2a-39171567ea9f",
   "metadata": {},
   "outputs": [],
   "source": [
    "def fact(n): \n",
    "    if n > 1:\n",
    "        return n * fact(n - 1) \n",
    "    else:\n",
    "        return 1    "
   ]
  },
  {
   "cell_type": "code",
   "execution_count": 25,
   "id": "90638749-c7c1-46c1-8bc9-e8cfb6f668eb",
   "metadata": {},
   "outputs": [
    {
     "data": {
      "text/plain": [
       "3628800"
      ]
     },
     "execution_count": 25,
     "metadata": {},
     "output_type": "execute_result"
    }
   ],
   "source": [
    "fact(10)"
   ]
  },
  {
   "cell_type": "code",
   "execution_count": null,
   "id": "acec43cc-79d3-4507-9cc9-7e01e91b63fc",
   "metadata": {},
   "outputs": [],
   "source": []
  },
  {
   "cell_type": "markdown",
   "id": "93e55897-2df4-4239-b322-d3d77b41cec5",
   "metadata": {},
   "source": [
    "### With a given integer number n, write a program to generate a dictionary that contains (i, i*i) such that is an integral number between 1 and n (both included). Then, the program should print the dictionary. Suppose the following input is supplied to the program: 8 Then, the output should be: {1: 1, 2: 4, 3: 9, 4: 16, 5: 25, 6: 36, 7: 49, 8: 64}  "
   ]
  },
  {
   "cell_type": "code",
   "execution_count": 43,
   "id": "bf2ffbb3-dd5c-40cc-a4c1-3ed5ca703be4",
   "metadata": {},
   "outputs": [],
   "source": [
    "def sqr(n):\n",
    "    dic = {}\n",
    "    for i in range(1, n+1):\n",
    "        a = {i: i*i}\n",
    "        dic.update(a)\n",
    "        \n",
    "    return dic\n",
    "    "
   ]
  },
  {
   "cell_type": "code",
   "execution_count": 46,
   "id": "8d91f54e-7048-467e-bc09-af6cb989363f",
   "metadata": {},
   "outputs": [
    {
     "name": "stdout",
     "output_type": "stream",
     "text": [
      "{1: 1, 2: 4, 3: 9, 4: 16, 5: 25, 6: 36, 7: 49, 8: 64, 9: 81, 10: 100, 11: 121, 12: 144, 13: 169, 14: 196, 15: 225, 16: 256, 17: 289, 18: 324, 19: 361, 20: 400}\n"
     ]
    }
   ],
   "source": [
    "print(sqr(20))"
   ]
  },
  {
   "cell_type": "code",
   "execution_count": null,
   "id": "116f0f9c-e46c-4457-9d70-3a73d1658efa",
   "metadata": {},
   "outputs": [],
   "source": [
    "1: 1*1 = 1: 1"
   ]
  },
  {
   "cell_type": "code",
   "execution_count": null,
   "id": "68cd63bc-9f62-43a2-ac88-119f25cf14b0",
   "metadata": {},
   "outputs": [],
   "source": [
    "dic = {1: 1, 2: 4,c..., 8: 64 }"
   ]
  },
  {
   "cell_type": "code",
   "execution_count": null,
   "id": "a3e42d87-ec10-4c5f-800a-ed99b9734bb6",
   "metadata": {},
   "outputs": [],
   "source": [
    "2: 2*2 = 2: 4"
   ]
  },
  {
   "cell_type": "code",
   "execution_count": null,
   "id": "dd2de25c-f49c-4a3c-b832-dbf0b107c0a4",
   "metadata": {},
   "outputs": [],
   "source": []
  },
  {
   "cell_type": "markdown",
   "id": "ff853c9a-7b2c-421b-8393-7b87a4059eef",
   "metadata": {},
   "source": [
    "### Given a non-empty string and an integral n, return a new string where the char at index n has been removed. The value of n will be a valid index of a char in the original string (i.e. n will be in the range 0..len(str)-1 inclusive)\n",
    "missing_char('kitten', 1) → 'ktten'    for example here we remove \"i\" which is located in the index 1\n",
    "\n",
    "missing_char('kitten', 0) → 'itten'   here we remove \"k\" which is in the index 0\n",
    "\n",
    "missing_char('kitten', 4) → 'kittn'   here we remove \"e\" which is in the index 4"
   ]
  },
  {
   "cell_type": "code",
   "execution_count": 85,
   "id": "13185173-62a6-4e53-b8a5-c5202430a010",
   "metadata": {},
   "outputs": [],
   "source": [
    "def missing_char(string, n):\n",
    "    if n in range(0, len(string) - 1):\n",
    "        \n",
    "        return string.replace(string[n], '', 1)\n",
    "    \n",
    "    else:\n",
    "        print(f'The string length is less than the integer. Try an integer that is less or equal to {len(string) - 1}.')\n"
   ]
  },
  {
   "cell_type": "code",
   "execution_count": 86,
   "id": "8e744362-ed06-401c-827a-70e6ac5e304c",
   "metadata": {},
   "outputs": [
    {
     "data": {
      "text/plain": [
       "range(0, 5)"
      ]
     },
     "execution_count": 86,
     "metadata": {},
     "output_type": "execute_result"
    }
   ],
   "source": [
    "range(0, len('kitten') - 1)"
   ]
  },
  {
   "cell_type": "code",
   "execution_count": 87,
   "id": "b34a7e9a-5d57-4420-bba4-3d0f5eed9a69",
   "metadata": {},
   "outputs": [
    {
     "name": "stdout",
     "output_type": "stream",
     "text": [
      "The string length is less than the integer. Try an integer that is less or equal to 6.\n"
     ]
    }
   ],
   "source": [
    "missing_char('giraffe', 10)"
   ]
  },
  {
   "cell_type": "code",
   "execution_count": 71,
   "id": "2ce6f4fb-9ced-4365-ac29-a4ed50e69596",
   "metadata": {},
   "outputs": [
    {
     "name": "stdout",
     "output_type": "stream",
     "text": [
      "The string length is less than the integer. Try an integer that is less or equal to string length\n"
     ]
    }
   ],
   "source": [
    "missing_char('kitten', 6)"
   ]
  },
  {
   "cell_type": "code",
   "execution_count": 78,
   "id": "2f41f4bf-6fad-4273-a671-77a7bd6f14a4",
   "metadata": {},
   "outputs": [
    {
     "data": {
      "text/plain": [
       "'kittn'"
      ]
     },
     "execution_count": 78,
     "metadata": {},
     "output_type": "execute_result"
    }
   ],
   "source": [
    "missing_char('kitten', 4) "
   ]
  },
  {
   "cell_type": "code",
   "execution_count": 79,
   "id": "0bbff7cf-99c0-4e73-9c2e-a4e53bd8c75d",
   "metadata": {},
   "outputs": [
    {
     "data": {
      "text/plain": [
       "'kiten'"
      ]
     },
     "execution_count": 79,
     "metadata": {},
     "output_type": "execute_result"
    }
   ],
   "source": [
    "missing_char('kitten', 2) "
   ]
  },
  {
   "cell_type": "code",
   "execution_count": 80,
   "id": "1b963a43-bf2f-49a2-8b88-c68ec6688f3c",
   "metadata": {},
   "outputs": [
    {
     "data": {
      "text/plain": [
       "'itten'"
      ]
     },
     "execution_count": 80,
     "metadata": {},
     "output_type": "execute_result"
    }
   ],
   "source": [
    "missing_char('kitten', 0) "
   ]
  },
  {
   "cell_type": "code",
   "execution_count": null,
   "id": "b1739bd2-b40c-46e5-b4d1-3a5bc6f30e62",
   "metadata": {},
   "outputs": [],
   "source": []
  },
  {
   "cell_type": "markdown",
   "id": "747a1402-b6c2-4a48-b7dd-2a22e79d4692",
   "metadata": {},
   "source": [
    "### Write a NumPy program to convert a NumPy array into a Python list structure.\n",
    "Expected output: \n",
    "\n",
    "Original array elements: [[0 1] [2 3] [4 5]] \n",
    "\n",
    "Array to list: [[0, 1], [2, 3], [4, 5]] "
   ]
  },
  {
   "cell_type": "code",
   "execution_count": 127,
   "id": "1f9a49bc-78c0-4d9c-8fc7-c823fab6d25b",
   "metadata": {},
   "outputs": [
    {
     "name": "stdout",
     "output_type": "stream",
     "text": [
      "[[ 1  2  3  4  5]\n",
      " [ 6  7  8  9 10]]\n",
      "<class 'numpy.ndarray'>\n"
     ]
    }
   ],
   "source": [
    "import numpy as np\n",
    "\n",
    "arr = np.array([[1, 2, 3, 4, 5], [6, 7, 8, 9, 10]])\n",
    "\n",
    "print(arr)\n",
    "\n",
    "print(type(arr))"
   ]
  },
  {
   "cell_type": "code",
   "execution_count": null,
   "id": "57dadb6e-75f4-4452-83dd-e55e7927fd53",
   "metadata": {},
   "outputs": [],
   "source": []
  },
  {
   "cell_type": "code",
   "execution_count": 128,
   "id": "6971e5ac-9982-4033-95aa-06aceee7a994",
   "metadata": {},
   "outputs": [
    {
     "data": {
      "text/plain": [
       "array([[0, 1],\n",
       "       [2, 3],\n",
       "       [4, 5]])"
      ]
     },
     "execution_count": 128,
     "metadata": {},
     "output_type": "execute_result"
    }
   ],
   "source": [
    "arr2 = np.array([[0,1], [2,3], [4,5]])\n",
    "arr2"
   ]
  },
  {
   "cell_type": "code",
   "execution_count": null,
   "id": "61b0a262-23c5-418b-a87e-73b5992e8c76",
   "metadata": {},
   "outputs": [],
   "source": []
  },
  {
   "cell_type": "code",
   "execution_count": 125,
   "id": "936a93c6-d92b-4f42-96d2-174e5aeec9b5",
   "metadata": {},
   "outputs": [],
   "source": [
    "def numpy_con(mat):\n",
    "    list_mat = mat.tolist()\n",
    "    return list_mat\n"
   ]
  },
  {
   "cell_type": "code",
   "execution_count": 134,
   "id": "95468ed7-6b2c-4fe4-87e2-0d62dd5612c3",
   "metadata": {},
   "outputs": [
    {
     "data": {
      "text/plain": [
       "[[1, 2, 3, 4, 5], [6, 7, 8, 9, 10]]"
      ]
     },
     "execution_count": 134,
     "metadata": {},
     "output_type": "execute_result"
    }
   ],
   "source": [
    "numpy_con(arr)"
   ]
  },
  {
   "cell_type": "code",
   "execution_count": 130,
   "id": "d687bcbd-de89-400b-8b90-ab37be0b0ad3",
   "metadata": {},
   "outputs": [
    {
     "data": {
      "text/plain": [
       "[[0, 1], [2, 3], [4, 5]]"
      ]
     },
     "execution_count": 130,
     "metadata": {},
     "output_type": "execute_result"
    }
   ],
   "source": [
    "numpy_con(arr2)"
   ]
  },
  {
   "cell_type": "code",
   "execution_count": null,
   "id": "f5410f42-9a33-47c9-8b8b-46fbb0249122",
   "metadata": {},
   "outputs": [],
   "source": []
  },
  {
   "cell_type": "code",
   "execution_count": null,
   "id": "64c84845-f1d4-498c-9173-32fb2e22df4b",
   "metadata": {},
   "outputs": [],
   "source": []
  },
  {
   "cell_type": "code",
   "execution_count": null,
   "id": "44172529-3b1b-4cee-9c04-523720052853",
   "metadata": {},
   "outputs": [],
   "source": []
  }
 ],
 "metadata": {
  "kernelspec": {
   "display_name": "Python 3 (ipykernel)",
   "language": "python",
   "name": "python3"
  },
  "language_info": {
   "codemirror_mode": {
    "name": "ipython",
    "version": 3
   },
   "file_extension": ".py",
   "mimetype": "text/x-python",
   "name": "python",
   "nbconvert_exporter": "python",
   "pygments_lexer": "ipython3",
   "version": "3.9.7"
  }
 },
 "nbformat": 4,
 "nbformat_minor": 5
}
